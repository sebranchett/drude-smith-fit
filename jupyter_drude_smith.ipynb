{
 "cells": [
  {
   "cell_type": "code",
   "execution_count": 1,
   "id": "0b388e35-d57a-4a55-b7d3-50d6677a1c02",
   "metadata": {},
   "outputs": [
    {
     "ename": "ImportError",
     "evalue": "cannot import name 'drude_smith_c1' from 'drude_smith_fit' (C:\\Users\\sbranchett\\work\\fit\\drude_smith_fit.py)",
     "output_type": "error",
     "traceback": [
      "\u001b[1;31m---------------------------------------------------------------------------\u001b[0m",
      "\u001b[1;31mImportError\u001b[0m                               Traceback (most recent call last)",
      "Cell \u001b[1;32mIn[1], line 3\u001b[0m\n\u001b[0;32m      1\u001b[0m \u001b[38;5;28;01mimport\u001b[39;00m \u001b[38;5;21;01mnumpy\u001b[39;00m \u001b[38;5;28;01mas\u001b[39;00m \u001b[38;5;21;01mnp\u001b[39;00m\n\u001b[0;32m      2\u001b[0m \u001b[38;5;28;01mfrom\u001b[39;00m \u001b[38;5;21;01mscipy\u001b[39;00m\u001b[38;5;21;01m.\u001b[39;00m\u001b[38;5;21;01moptimize\u001b[39;00m \u001b[38;5;28;01mimport\u001b[39;00m curve_fit\n\u001b[1;32m----> 3\u001b[0m \u001b[38;5;28;01mfrom\u001b[39;00m \u001b[38;5;21;01mdrude_smith_fit\u001b[39;00m \u001b[38;5;28;01mimport\u001b[39;00m read_csv, drude_smith_c1, fit_function\n\u001b[0;32m      4\u001b[0m \u001b[38;5;28;01mfrom\u001b[39;00m \u001b[38;5;21;01mdrude_smith_fit\u001b[39;00m \u001b[38;5;28;01mimport\u001b[39;00m plot_experimental_and_fitted_data\n",
      "\u001b[1;31mImportError\u001b[0m: cannot import name 'drude_smith_c1' from 'drude_smith_fit' (C:\\Users\\sbranchett\\work\\fit\\drude_smith_fit.py)"
     ]
    }
   ],
   "source": [
    "import numpy as np\n",
    "from scipy.optimize import curve_fit\n",
    "from drude_smith_fit import read_csv, drude_smith_c3, fit_function\n",
    "from drude_smith_fit import plot_experimental_and_fitted_data"
   ]
  },
  {
   "cell_type": "code",
   "execution_count": null,
   "id": "2460cc2e-89c7-4f5b-b478-ee901e8c61a7",
   "metadata": {},
   "outputs": [],
   "source": [
    "    filename = \"mobility.csv\"\n",
    "    min_frequency = 0.3E12\n",
    "    max_frequency = 2.2E12\n",
    "    output_filename = \"experimental_and_fitted_data.png\""
   ]
  },
  {
   "cell_type": "code",
   "execution_count": null,
   "id": "d6062c77-c05f-4986-acbf-7f2754b8487b",
   "metadata": {},
   "outputs": [],
   "source": [
    "frequencies, complex_numbers = read_csv(\n",
    "    filename, min_frequency, max_frequency\n",
    ")"
   ]
  },
  {
   "cell_type": "code",
   "execution_count": null,
   "id": "21a4ab3d-09ea-4b94-9ab1-8de487ff7f31",
   "metadata": {},
   "outputs": [],
   "source": [
    "# To fit both the real and imaginary parts of the complex numbers\n",
    "# create a 'stretched' array\n",
    "stretched_complex_numbers = np.concatenate(\n",
    "    (np.real(complex_numbers), np.imag(complex_numbers))\n",
    ")\n",
    "\n",
    "# Set some physics boundaries\n",
    "min_c1 = -1.\n",
    "max_c1 = 0.\n",
    "min_tau = 0.\n",
    "max_tau = np.inf\n",
    "print(min_tau, max_tau)\n",
    "\n",
    "minima = [-np.inf, min_tau, min_c1]\n",
    "maxima = [np.inf, max_tau, max_c1]\n",
    "\n",
    "# Perform the fit\n",
    "params, pcov = curve_fit(\n",
    "    fit_function, frequencies, stretched_complex_numbers,\n",
    "    bounds=(minima, maxima)\n",
    ")\n",
    "\n",
    "# Extract the fitted parameters\n",
    "m_fit, tau_fit, c1_fit = params\n",
    "print(\"Fitted value of m:\", m_fit)\n",
    "print(\"Fitted value of tau:\", tau_fit * 1E-15)  # Convert to femtoseconds\n",
    "print(\"Fitted value of c1:\", c1_fit)\n",
    "# print(\"One standard deviation:\", np.sqrt(np.diag(pcov)))\n",
    "\n",
    "# Use the fitted parameters to calculate the fitted complex numbers\n",
    "fitted_stretched_complex_numbers = fit_function(\n",
    "    frequencies, m_fit, tau_fit, c1_fit\n",
    ")\n",
    "\n",
    "fitted_complex_numbers = \\\n",
    "    fitted_stretched_complex_numbers[:len(frequencies)] + \\\n",
    "    1j * fitted_stretched_complex_numbers[len(frequencies):]\n",
    "\n",
    "plot_experimental_and_fitted_data(\n",
    "    frequencies, complex_numbers, fitted_complex_numbers,\n",
    "    \"m_fit = %.3e, tau_fit = %.3e, c_fit = %.3e\"\n",
    "    % (m_fit, tau_fit * 1E-15, c1_fit),\n",
    "    output_filename\n",
    ")  # Convert to femtoseconds"
   ]
  },
  {
   "cell_type": "code",
   "execution_count": null,
   "id": "5aaf3ebd-e2d6-46bb-b35e-2f413130e71b",
   "metadata": {},
   "outputs": [],
   "source": []
  }
 ],
 "metadata": {
  "kernelspec": {
   "display_name": "Python 3 (ipykernel)",
   "language": "python",
   "name": "python3"
  },
  "language_info": {
   "codemirror_mode": {
    "name": "ipython",
    "version": 3
   },
   "file_extension": ".py",
   "mimetype": "text/x-python",
   "name": "python",
   "nbconvert_exporter": "python",
   "pygments_lexer": "ipython3",
   "version": "3.11.3"
  }
 },
 "nbformat": 4,
 "nbformat_minor": 5
}
