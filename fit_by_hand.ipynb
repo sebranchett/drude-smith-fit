{
 "cells": [
  {
   "cell_type": "code",
   "execution_count": 1,
   "id": "e7029e39-98ae-4282-8ed8-dcbc3cbecadb",
   "metadata": {},
   "outputs": [],
   "source": [
    "from __future__ import print_function\n",
    "from ipywidgets import interact, interactive, fixed, interact_manual\n",
    "import numpy as np\n",
    "from drude_smith_fit import drude_smith_c3, plot_experimental_and_fitted_data"
   ]
  },
  {
   "cell_type": "code",
   "execution_count": 2,
   "id": "42258fd4-59e7-436a-9aea-8c44c98f6e3f",
   "metadata": {},
   "outputs": [],
   "source": [
    "# Define the frequency range\n",
    "frequencies = np.linspace(0.3E12, 2.5E12, 21)\n",
    "phi = 1.\n",
    "\n",
    "def series(m, tau, c1):\n",
    "    mobility = drude_smith_c3(frequencies, phi, m, tau, c1)\n",
    "    plot_experimental_and_fitted_data(\n",
    "        frequencies, mobility, mobility, \"Drude-Smith Curve\",\n",
    "        \"\"\n",
    "    )\n",
    "    return()"
   ]
  },
  {
   "cell_type": "code",
   "execution_count": 3,
   "id": "021cf2a0-131b-4f6f-a67a-196efbffc646",
   "metadata": {},
   "outputs": [
    {
     "data": {
      "application/vnd.jupyter.widget-view+json": {
       "model_id": "8c24c63b69684ef28041783585f8ae9e",
       "version_major": 2,
       "version_minor": 0
      },
      "text/plain": [
       "interactive(children=(FloatSlider(value=5.0, description='m', max=10.0, min=0.05, step=0.05), IntSlider(value=…"
      ]
     },
     "metadata": {},
     "output_type": "display_data"
    },
    {
     "data": {
      "text/plain": [
       "<function __main__.series(m, tau, c1)>"
      ]
     },
     "execution_count": 3,
     "metadata": {},
     "output_type": "execute_result"
    }
   ],
   "source": [
    "interact(series, m=(0.05, 10, 0.05), tau=(1, 1000, 1), c1=(-1., 0., 0.01))"
   ]
  }
 ],
 "metadata": {
  "kernelspec": {
   "display_name": "Python 3 (ipykernel)",
   "language": "python",
   "name": "python3"
  },
  "language_info": {
   "codemirror_mode": {
    "name": "ipython",
    "version": 3
   },
   "file_extension": ".py",
   "mimetype": "text/x-python",
   "name": "python",
   "nbconvert_exporter": "python",
   "pygments_lexer": "ipython3",
   "version": "3.12.7"
  }
 },
 "nbformat": 4,
 "nbformat_minor": 5
}
