{
 "cells": [
  {
   "cell_type": "markdown",
   "id": "a3c83fb2",
   "metadata": {},
   "source": [
    "### Perform Drude-Smith fit on experimental data"
   ]
  },
  {
   "cell_type": "code",
   "execution_count": null,
   "id": "0b388e35-d57a-4a55-b7d3-50d6677a1c02",
   "metadata": {},
   "outputs": [],
   "source": [
    "import os\n",
    "from drude_smith_fit import check_input_parameters\n",
    "from drude_smith_fit import read_csv\n",
    "from drude_smith_fit import perform_fit\n",
    "from drude_smith_fit import plot_experimental_and_fitted_data\n",
    "from drude_smith_fit import print_fit_results\n",
    "from drude_smith_fit import write_csv, write_parameters\n",
    "from drude_smith_fit import guess_min_Lorentz_f"
   ]
  },
  {
   "cell_type": "markdown",
   "id": "e39b43a0",
   "metadata": {},
   "source": [
    "Define input"
   ]
  },
  {
   "cell_type": "code",
   "execution_count": null,
   "id": "2460cc2e-89c7-4f5b-b478-ee901e8c61a7",
   "metadata": {},
   "outputs": [],
   "source": [
    "# Specify directory containing experimental datasets in csv files\n",
    "input_directory = \"data\"\n",
    "\n",
    "min_frequency = 0.3E12\n",
    "max_frequency = 2.2E12"
   ]
  },
  {
   "cell_type": "markdown",
   "id": "34fa18d8",
   "metadata": {},
   "source": [
    "Define directory for output"
   ]
  },
  {
   "cell_type": "code",
   "execution_count": null,
   "id": "121dd57c",
   "metadata": {},
   "outputs": [],
   "source": [
    "output_directory = \"output\"  # Must already exist"
   ]
  },
  {
   "cell_type": "markdown",
   "id": "3b0dc861",
   "metadata": {},
   "source": [
    "Fix parameters"
   ]
  },
  {
   "cell_type": "code",
   "execution_count": null,
   "id": "dd345975",
   "metadata": {},
   "outputs": [],
   "source": [
    "fix_phi = 1.\n",
    "fix_m = False\n",
    "fix_tau = False  # fix tau in fs\n",
    "fix_c1 = False\n",
    "fix_c2 = 0.\n",
    "fix_c3 = 0.\n",
    "fix_phi_ex = 0.\n",
    "fix_fbn = 0.\n",
    "fix_wbn = 0.  # fix wbn in THz\n",
    "fix_gamma = 0.  # fix gamma in THz"
   ]
  },
  {
   "cell_type": "markdown",
   "id": "b2eecde5",
   "metadata": {},
   "source": [
    "Perform loop over input files"
   ]
  },
  {
   "cell_type": "code",
   "execution_count": null,
   "id": "3ce00b0e",
   "metadata": {
    "tags": []
   },
   "outputs": [],
   "source": [
    "for filename in os.listdir(input_directory):\n",
    "    if filename.endswith(\".csv\"):\n",
    "        input_filename = os.path.join(input_directory, filename)\n",
    "\n",
    "        base_name = os.path.splitext(os.path.basename(input_filename))[0]\n",
    "        image_filename = os.path.join(output_directory, base_name + '.png')\n",
    "        param_filename = os.path.join(output_directory, base_name + '_param.csv')\n",
    "        data_filename = os.path.join(output_directory, base_name + '_fitted.csv')\n",
    "\n",
    "        frequencies, complex_numbers = read_csv(\n",
    "            input_filename, min_frequency, max_frequency\n",
    "        )\n",
    "        # Convert to m^2 V^-1 s^-1.\n",
    "        complex_numbers *= 1.e-4\n",
    "        \n",
    "        min_Lorentz_f = guess_min_Lorentz_f(frequencies, complex_numbers.real)\n",
    "        num_variable_params = check_input_parameters(\n",
    "            fix_phi, fix_m, fix_tau, fix_c1, fix_c2, fix_c3,\n",
    "            fix_phi_ex, fix_fbn, fix_wbn, fix_gamma, min_Lorentz_f\n",
    "        )\n",
    "\n",
    "        try:\n",
    "            fitted_complex_numbers, \\\n",
    "                [phi_fit, m_fit, tau_fit, c1_fit, c2_fit, c3_fit,\n",
    "                phi_ex_fit, fbn_fit, wbn_fit, gamma_fit], \\\n",
    "                std_dev = perform_fit(\n",
    "                    frequencies, complex_numbers, num_variable_params\n",
    "                )\n",
    "\n",
    "            print(\"Results for \", input_filename)\n",
    "\n",
    "            print_fit_results(\n",
    "                phi_fit, m_fit, tau_fit, c1_fit, c2_fit, c3_fit,\n",
    "                phi_ex_fit, fbn_fit, wbn_fit, gamma_fit, std_dev\n",
    "            )\n",
    "\n",
    "            title = (\"phi = %.3e, m = %.3e, tau = %.3e,\\n\"\n",
    "                    \"c1 = %.3e, c2 = %.3e, c3 = %.3e,\\n\"\n",
    "                    \"phi_ex = %.3e, fbn = %.3e, wbn = %.3e, gamma = %.3e\")\n",
    "            plot_experimental_and_fitted_data(\n",
    "                frequencies, complex_numbers, fitted_complex_numbers,\n",
    "                title\n",
    "                % (phi_fit, m_fit, tau_fit, c1_fit, c2_fit, c3_fit,\n",
    "                phi_ex_fit, fbn_fit, wbn_fit, gamma_fit),\n",
    "                image_filename\n",
    "            )\n",
    "\n",
    "            write_parameters(\n",
    "                param_filename, phi_fit, m_fit, tau_fit,\n",
    "                c1_fit, c2_fit, c3_fit, phi_ex_fit, fbn_fit, wbn_fit, gamma_fit, std_dev\n",
    "            )\n",
    "\n",
    "            write_csv(\n",
    "                data_filename, frequencies, complex_numbers,\n",
    "                fitted_complex_numbers\n",
    "            )\n",
    "    \n",
    "        except Exception as e:\n",
    "            print(f\"Error occurred for file: {filename}\")\n",
    "            print(f\"Error message: {str(e)}\")"
   ]
  }
 ],
 "metadata": {
  "kernelspec": {
   "display_name": "Python 3 (ipykernel)",
   "language": "python",
   "name": "python3"
  },
  "language_info": {
   "codemirror_mode": {
    "name": "ipython",
    "version": 3
   },
   "file_extension": ".py",
   "mimetype": "text/x-python",
   "name": "python",
   "nbconvert_exporter": "python",
   "pygments_lexer": "ipython3",
   "version": "3.12.7"
  }
 },
 "nbformat": 4,
 "nbformat_minor": 5
}
